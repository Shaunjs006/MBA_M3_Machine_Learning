{
 "cells": [
  {
   "cell_type": "markdown",
   "metadata": {
    "collapsed": true
   },
   "source": [
    "## 4) Practical\n",
    "\n",
    "Using the pima dataset, \n",
    "\n",
    "Use the neural network classifier from scikit-learn on this dataset.    \n",
    "What is the effect of varying the size, number of epochs and number of hidden layers on classification performance?  \n",
    "\n",
    "http://scikit-learn.org/stable/modules/generated/sklearn.neural_network.MLPClassifier.html \n",
    "http://scikit-learn.org/stable/modules/neural_networks_supervised.html \n",
    "https://stackoverflow.com/questions/34016238/sklearn-import-mlpclassifier-fails\n",
    "\n",
    "Note that you may need to upgrade your version of sklearn in order to be able to use this classifier (e.g. conda update scikit-learn) "
   ]
  },
  {
   "cell_type": "code",
   "execution_count": null,
   "metadata": {},
   "outputs": [],
   "source": [
    "import pandas as pd\n",
    "from sklearn.model_selection import cross_val_score\n",
    "from sklearn import neural_network\n",
    "\n",
    "##load in the data\n",
    "pima=pd.read_csv('pima-indians-diabetes.csv',encoding = 'ISO-8859-1')\n",
    "\n",
    "##get just the features\n",
    "data=pima[['numpregnant','plasma','blood pressure','sf-thickness','serum-insulin','BMI','pedigree-function','age']]\n",
    "\n",
    "##get just the class labels\n",
    "classlabel=pima['has_diabetes']"
   ]
  },
  {
   "cell_type": "code",
   "execution_count": null,
   "metadata": {},
   "outputs": [],
   "source": [
    "\n",
    "ann=neural_network.MLPClassifier(hidden_layer_sizes=(10,6,5),\n",
    "                                 activation='relu', solver='sgd',\n",
    "                                 batch_size= 64, alpha=0.0001, learning_rate='adaptive', max_iter=200,  random_state=3)\n",
    "\n",
    "#Activation\n",
    "  # ‘logistic’, the logistic sigmoid function, returns f(x) = 1 / (1 + exp(-x)).\n",
    "  #‘tanh’, the hyperbolic tan function, returns f(x) = tanh(x).\n",
    "  #‘relu’, the rectified linear unit function, returns f(x) = max(0, x)\n",
    "    \n",
    "#max_iter : Maximum number of epochs. how many times each data point will be used.\n",
    "\n",
    "print(\"10-fold cross validation accuracy= \",cross_val_score(ann, data, classlabel,cv=10).mean())"
   ]
  },
  {
   "cell_type": "markdown",
   "metadata": {},
   "source": [
    "### Varying the batch size"
   ]
  },
  {
   "cell_type": "code",
   "execution_count": null,
   "metadata": {},
   "outputs": [],
   "source": [
    "import matplotlib.pyplot as plt\n",
    "\n",
    "batch_size = range(50,400,20)\n",
    "\n",
    "accuracies=[]\n",
    "for bs in batch_size:\n",
    "    ann=neural_network.MLPClassifier(hidden_layer_sizes=(10, 50),\n",
    "                                 activation='relu', solver='sgd', batch_size= bs, \n",
    "                                 alpha=0.0001, learning_rate='adaptive', max_iter=200,  random_state=3)\n",
    "    \n",
    "    cv_score = cross_val_score(ann, data, classlabel,cv=10).mean()\n",
    "    accuracies.append(cv_score)\n",
    "\n",
    "plt.plot(batch_size,accuracies)\n",
    "plt.xlabel('Batch size', fontsize=16)\n",
    "plt.ylabel('Accuracy', fontsize=16)\n",
    "plt.show()"
   ]
  },
  {
   "cell_type": "markdown",
   "metadata": {},
   "source": [
    "### Varying the size of hidden layers"
   ]
  },
  {
   "cell_type": "code",
   "execution_count": null,
   "metadata": {},
   "outputs": [],
   "source": [
    "import itertools\n",
    "\n",
    "h_size = [x for x in itertools.product((10,100),repeat=2)]\n",
    "h_size\n",
    "\n",
    "accuracies=[]\n",
    "\n",
    "\n",
    "for hs in h_size:\n",
    "    ann=neural_network.MLPClassifier(hidden_layer_sizes=hs,\n",
    "                                 activation='relu', solver='sgd',\n",
    "                                 batch_size= 64, alpha=0.0001, learning_rate='adaptive', max_iter=200,  random_state=40)\n",
    "\n",
    "    cv_score = cross_val_score(ann, data, classlabel,cv=10 ).mean()\n",
    "    accuracies.append(cv_score)\n",
    "    \n",
    "\n",
    "hidden_layer = [str(i) for i in h_size]\n",
    "\n",
    "plt.plot(range(0,len(hidden_layer)),accuracies)\n",
    "plt.xlabel('Hidden layer', fontsize=16)\n",
    "plt.ylabel('Accuracy', fontsize=16)\n",
    "plt.xticks(range(0,len(hidden_layer)),hidden_layer)\n",
    "plt.show()"
   ]
  },
  {
   "cell_type": "markdown",
   "metadata": {},
   "source": [
    "### Varying the number of hidden layers\n"
   ]
  },
  {
   "cell_type": "code",
   "execution_count": null,
   "metadata": {},
   "outputs": [],
   "source": [
    "h_layer = list(itertools.product((10,100),repeat=2)) + list(itertools.combinations([10,100,10,50,100], 3))\n",
    "\n",
    "accuracies=[]\n",
    "\n",
    "\n",
    "for hs in h_layer:\n",
    "    ann=neural_network.MLPClassifier(hidden_layer_sizes=hs,\n",
    "                                 activation='relu', solver='sgd',\n",
    "                                 batch_size= 64, alpha=0.0001, learning_rate='adaptive', max_iter=200,  random_state=40)\n",
    "\n",
    "    cv_score = cross_val_score(ann, data, classlabel,cv=10 ).mean()\n",
    "    accuracies.append(cv_score)\n",
    "    \n",
    "\n",
    "hidden_layer = [str(i) for i in h_layer]\n",
    "\n",
    "plt.plot(range(0,len(hidden_layer)),accuracies)\n",
    "plt.xlabel('Hidden layer', fontsize=16)\n",
    "plt.ylabel('Accuracy', fontsize=16)\n",
    "plt.xticks(range(0,len(h_layer)),hidden_layer, rotation=90)\n",
    "plt.show()"
   ]
  }
 ],
 "metadata": {
  "kernelspec": {
   "display_name": "Python 3 (ipykernel)",
   "language": "python",
   "name": "python3"
  },
  "language_info": {
   "codemirror_mode": {
    "name": "ipython",
    "version": 3
   },
   "file_extension": ".py",
   "mimetype": "text/x-python",
   "name": "python",
   "nbconvert_exporter": "python",
   "pygments_lexer": "ipython3",
   "version": "3.7.13"
  }
 },
 "nbformat": 4,
 "nbformat_minor": 2
}
